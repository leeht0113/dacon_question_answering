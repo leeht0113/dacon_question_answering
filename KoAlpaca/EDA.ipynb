{
 "cells": [
  {
   "cell_type": "code",
   "execution_count": 1,
   "id": "94d45fca-9b9b-494a-a4ac-bf39996a163b",
   "metadata": {
    "id": "94d45fca-9b9b-494a-a4ac-bf39996a163b"
   },
   "outputs": [],
   "source": [
    "import pandas as pd\n",
    "import numpy as np\n",
    "import matplotlib.pyplot as plt\n",
    "import seaborn as sns"
   ]
  },
  {
   "cell_type": "code",
   "execution_count": 2,
   "id": "e7216eaf-2e5e-44be-9354-52d9b7a23de7",
   "metadata": {
    "id": "e7216eaf-2e5e-44be-9354-52d9b7a23de7",
    "outputId": "2812ccf2-87ea-4af5-fe4e-b8c94ec2cc70"
   },
   "outputs": [
    {
     "data": {
      "text/html": [
       "<div>\n",
       "<style scoped>\n",
       "    .dataframe tbody tr th:only-of-type {\n",
       "        vertical-align: middle;\n",
       "    }\n",
       "\n",
       "    .dataframe tbody tr th {\n",
       "        vertical-align: top;\n",
       "    }\n",
       "\n",
       "    .dataframe thead th {\n",
       "        text-align: right;\n",
       "    }\n",
       "</style>\n",
       "<table border=\"1\" class=\"dataframe\">\n",
       "  <thead>\n",
       "    <tr style=\"text-align: right;\">\n",
       "      <th></th>\n",
       "      <th>id</th>\n",
       "      <th>질문_1</th>\n",
       "      <th>질문_2</th>\n",
       "      <th>category</th>\n",
       "      <th>답변_1</th>\n",
       "      <th>답변_2</th>\n",
       "      <th>답변_3</th>\n",
       "      <th>답변_4</th>\n",
       "      <th>답변_5</th>\n",
       "    </tr>\n",
       "  </thead>\n",
       "  <tbody>\n",
       "    <tr>\n",
       "      <th>0</th>\n",
       "      <td>TRAIN_000</td>\n",
       "      <td>면진장치가 뭐야?</td>\n",
       "      <td>면진장치에 사용되는 주요 기술은 무엇인가요?</td>\n",
       "      <td>건축구조</td>\n",
       "      <td>면진장치란 지반에서 오는 진동 에너지를 흡수하여 건물에 주는 진동을 줄여주는 진동 ...</td>\n",
       "      <td>면진장치란 건물의 지반에서 발생하는 진동 에너지를 흡수하여 건물을 보호하고, 진동을...</td>\n",
       "      <td>면진장치란 지반으로부터 발생하는 진동 에너지를 흡수하여 건물에 전달되는 진동을 줄여...</td>\n",
       "      <td>면진장치는 건물의 지반으로부터 오는 진동 에너지를 흡수하여 건물에 전달되는 진동을 ...</td>\n",
       "      <td>면진장치는 건물에 오는 지반 진동의 영향을 최대한으로 흡수하여 건물에 전달되는 진동...</td>\n",
       "    </tr>\n",
       "    <tr>\n",
       "      <th>1</th>\n",
       "      <td>TRAIN_001</td>\n",
       "      <td>내진설계의 종류 좀 알려줘</td>\n",
       "      <td>내진설계에는 어떤 종류가 있는지 자세히 알려주실 수 있나요?</td>\n",
       "      <td>건축구조</td>\n",
       "      <td>내진 설계의 종류로 내진구조, 제진구조, 면진구조가 있습니다.</td>\n",
       "      <td>내진설계에는 내진구조, 제진구조, 면진구조가 있습니다. 내진구조는 건물 구조물이 지...</td>\n",
       "      <td>내진설계에는 주로 내진구조, 제진구조, 면진구조의 세 가지 종류가 있습니다. 이들은...</td>\n",
       "      <td>내진설계에는 주로 내진구조, 제진구조, 면진구조가 사용됩니다. 내진구조는 건물 구조...</td>\n",
       "      <td>내진 설계에는 다양한 종류가 있지만, 대표적으로 내진구조, 제진구조, 면진구조가 있...</td>\n",
       "    </tr>\n",
       "    <tr>\n",
       "      <th>2</th>\n",
       "      <td>TRAIN_002</td>\n",
       "      <td>철골구조의 장점이 뭐야?</td>\n",
       "      <td>철골구조의 장점을 알려줘?</td>\n",
       "      <td>건축구조</td>\n",
       "      <td>철골구조는 건물의 외벽에는 그다지 하중이 걸리지 않기 때문에 고층 건물의 건축이 가...</td>\n",
       "      <td>철골구조의 장점은 건물의 외벽에는 그다지 하중이 걸리지 않기 때문에 고층 건물의 건...</td>\n",
       "      <td>철골구조의 장점은 건물의 외벽에 하중이 적게 걸리기 때문에 고층 건물의 건축이 용이...</td>\n",
       "      <td>철골구조의 장점은 건물의 외벽이 하중이 걸리지 않아 공간 활용이 용이하고, 고층 건...</td>\n",
       "      <td>철골구조의 장점은 건물의 외벽에 하중이 크게 걸리지 않아 고층 건물을 건축할 수 있...</td>\n",
       "    </tr>\n",
       "    <tr>\n",
       "      <th>3</th>\n",
       "      <td>TRAIN_003</td>\n",
       "      <td>철골철근 콘크리트 구조가 뭐야?</td>\n",
       "      <td>철골철근 콘크리트 구조의 장점과 단점에는 무엇이 있을까요?</td>\n",
       "      <td>건축구조</td>\n",
       "      <td>철근철골콘크리트는 철골과 철근, 그리고 콘크리트를 함께 사용하는 건축 구조입니다. ...</td>\n",
       "      <td>철골철근콘크리트 구조는 건축물을 지탱하는 주요 구조물인 철골과 철근, 그리고 콘크리...</td>\n",
       "      <td>철골철근 콘크리트 구조는 건축물을 지탱하기 위한 구조물에서 일반적으로 사용되는 방식...</td>\n",
       "      <td>철골철근콘크리트 구조는 철골과 철근, 그리고 콘크리트를 함께 사용하여 만들어지는 건...</td>\n",
       "      <td>철골철근 콘크리트 구조는 강철 골조와 강철 철근, 그리고 콘크리트를 함께 사용하여 ...</td>\n",
       "    </tr>\n",
       "    <tr>\n",
       "      <th>4</th>\n",
       "      <td>TRAIN_004</td>\n",
       "      <td>철골구조는 어떤 방식이 있어?</td>\n",
       "      <td>철골구조의 다양한 방식이 무엇인가요?</td>\n",
       "      <td>건축구조</td>\n",
       "      <td>철골구조는 일반철골구조와 경량철골구조가 있습니다.</td>\n",
       "      <td>철골구조는 일반철골구조와 경량철골구조가 있습니다. 일반철골구조는 주로 대형 건물이나...</td>\n",
       "      <td>철골구조는 주로 일반철골구조와 경량철골구조로 나뉘어집니다. 이들은 건축 시스템에 따...</td>\n",
       "      <td>철골구조는 주로 일반철골구조와 경량철골구조로 구분됩니다. 이외에도 최근에는 고층 건...</td>\n",
       "      <td>철골구조는 일반철골구조와 경량철골구조 두 가지 방식이 주로 사용됩니다. 일반철골구조...</td>\n",
       "    </tr>\n",
       "    <tr>\n",
       "      <th>...</th>\n",
       "      <td>...</td>\n",
       "      <td>...</td>\n",
       "      <td>...</td>\n",
       "      <td>...</td>\n",
       "      <td>...</td>\n",
       "      <td>...</td>\n",
       "      <td>...</td>\n",
       "      <td>...</td>\n",
       "      <td>...</td>\n",
       "    </tr>\n",
       "    <tr>\n",
       "      <th>639</th>\n",
       "      <td>TRAIN_639</td>\n",
       "      <td>벽장 부위 결로의 원인이 뭐야?</td>\n",
       "      <td>벽장 부위 결로가 발생하는 주된 원인은 무엇일까요?</td>\n",
       "      <td>타 마감하자</td>\n",
       "      <td>벽장 부위 결로의 원인은 난방이 이웃한 방과동일한 조건이 되나 그 방에 비해 저온인...</td>\n",
       "      <td>벽장 부위 결로의 원인은 주로 난방이 자리잡은 방이 내부 온도가 낮은 반면, 외부 ...</td>\n",
       "      <td>벽장 부위 결로가 발생하는 원인은 난방이 잘 이루어지지 않아 해당 공간이 저온인 반...</td>\n",
       "      <td>벽장 부위 결로가 발생하는 원인은 난방이 인접한 방과 같은 조건을 갖추고 있지만, ...</td>\n",
       "      <td>벽장 부위 결로의 주된 원인은 충분한 환기가 이루어지지 않는 환경과 과도한 습기가 ...</td>\n",
       "    </tr>\n",
       "    <tr>\n",
       "      <th>640</th>\n",
       "      <td>TRAIN_640</td>\n",
       "      <td>AD, PD에 면한 벽체 결로의 원인이 뭐야?</td>\n",
       "      <td>벽체 결로가 AD나 PD에 면한다면 그 원인이 무엇인가요?</td>\n",
       "      <td>타 마감하자</td>\n",
       "      <td>AD, PD에 면한 벽체 결로의 원인은 외기에 접하는 면 좌, 우측 벽체에는 단열재...</td>\n",
       "      <td>AD, PD에 면한 벽체 결로의 원인은 외기에 접하는 면 좌, 우측 벽체에는 단열재...</td>\n",
       "      <td>AD, PD에 면한 벽체 결로의 주된 원인은 외기에 접하는 면 좌, 우측 벽체에 단...</td>\n",
       "      <td>AD, PD에 면한 벽체 결로의 원인으로는 외기에 접하는 면 좌, 우측 벽체는 일반...</td>\n",
       "      <td>AD, PD에 면한 벽체 결로의 원인으로는 외부 공기에 노출된 벽면이 실내보다 냉각...</td>\n",
       "    </tr>\n",
       "    <tr>\n",
       "      <th>641</th>\n",
       "      <td>TRAIN_641</td>\n",
       "      <td>외벽 모서리 부위에 결로가 발생하는 원인이 뭐야?</td>\n",
       "      <td>외벽 모서리 부위에 결로가 발생하는 것을 예방하는 방법이 있을까요?</td>\n",
       "      <td>타 마감하자</td>\n",
       "      <td>외벽모서리 부위에 결로가 발생하는 원인은 높은 온도차 때문입니다. 외벽 모서리의 경...</td>\n",
       "      <td>외벽 모서리 부위에 결로가 발생하는 원인은 중요한 역할을 합니다. 외부에 비치는 세...</td>\n",
       "      <td>외벽 모서리 부위에 결로가 발생하는 원인으로는 높은 온도차가 대표적입니다. 외벽 모...</td>\n",
       "      <td>외벽 모서리 부위에 결로가 발생하는 원인은 실내와 외부의 온도차 때문입니다. 외벽 ...</td>\n",
       "      <td>외벽 모서리 부위에 결로가 발생하는 주요 원인은 높은 온도차입니다. 외벽 모서리는 ...</td>\n",
       "    </tr>\n",
       "    <tr>\n",
       "      <th>642</th>\n",
       "      <td>TRAIN_642</td>\n",
       "      <td>창호 결로의 대책은 뭐야?</td>\n",
       "      <td>창호 결로를 해결하기 위한 가장 효과적인 방법은 무엇인가요?</td>\n",
       "      <td>타 마감하자</td>\n",
       "      <td>창호결로의 대책은 제품을 선정할 때 KS에 규정된 프레임을 선정하고 유리의 열관류율...</td>\n",
       "      <td>창호 결로의 대책은 KS에 규정된 프레임을 선정하고 유리의 열관류율 및 결로 발생 ...</td>\n",
       "      <td>창호 결로를 예방하기 위한 대책은 KS에 규정된 프레임을 선택하고, 열관류율이 적은...</td>\n",
       "      <td>창호 결로의 대책은 여러 가지가 있습니다. 먼저, 창호를 선택할 때 KS에 규정된 ...</td>\n",
       "      <td>창호 결로를 방지하기 위한 대책으로는 KS에 규정된 프레임을 사용하고, 열관류율 및...</td>\n",
       "    </tr>\n",
       "    <tr>\n",
       "      <th>643</th>\n",
       "      <td>TRAIN_643</td>\n",
       "      <td>AD, PD에 면한 벽체 결로에 대한 대책은 뭐야?</td>\n",
       "      <td>AD, PD에 면한 벽체 결로에 대한 대책은 어떤 것이 있나요?</td>\n",
       "      <td>타 마감하자</td>\n",
       "      <td>AD, PD에 면한 벽체 결로에 대한 대책은 단열재를 미실하게 시공하여 결로가 생기...</td>\n",
       "      <td>AD, PD에 면한 벽체 결로에 대한 대책은 단열재를 미실하게 시공하여 결로가 생기...</td>\n",
       "      <td>AD, PD에 면한 벽체 결로에 대한 대책은 단열재를 미실하게 시공하여 결로가 생기...</td>\n",
       "      <td>AD, PD에 면한 벽체 결로에 대한 대책은 단열재를 미실하게 시공하여 결로가 생기...</td>\n",
       "      <td>AD, PD에 면한 벽체의 결로에 대한 대책으로는 단열재를 미실하게 시공하여 결로가...</td>\n",
       "    </tr>\n",
       "  </tbody>\n",
       "</table>\n",
       "<p>644 rows × 9 columns</p>\n",
       "</div>"
      ],
      "text/plain": [
       "            id                          질문_1  \\\n",
       "0    TRAIN_000                     면진장치가 뭐야?   \n",
       "1    TRAIN_001                내진설계의 종류 좀 알려줘   \n",
       "2    TRAIN_002                 철골구조의 장점이 뭐야?   \n",
       "3    TRAIN_003             철골철근 콘크리트 구조가 뭐야?   \n",
       "4    TRAIN_004              철골구조는 어떤 방식이 있어?   \n",
       "..         ...                           ...   \n",
       "639  TRAIN_639             벽장 부위 결로의 원인이 뭐야?   \n",
       "640  TRAIN_640     AD, PD에 면한 벽체 결로의 원인이 뭐야?   \n",
       "641  TRAIN_641   외벽 모서리 부위에 결로가 발생하는 원인이 뭐야?   \n",
       "642  TRAIN_642                창호 결로의 대책은 뭐야?   \n",
       "643  TRAIN_643  AD, PD에 면한 벽체 결로에 대한 대책은 뭐야?   \n",
       "\n",
       "                                      질문_2 category  \\\n",
       "0                 면진장치에 사용되는 주요 기술은 무엇인가요?     건축구조   \n",
       "1        내진설계에는 어떤 종류가 있는지 자세히 알려주실 수 있나요?     건축구조   \n",
       "2                           철골구조의 장점을 알려줘?     건축구조   \n",
       "3         철골철근 콘크리트 구조의 장점과 단점에는 무엇이 있을까요?     건축구조   \n",
       "4                     철골구조의 다양한 방식이 무엇인가요?     건축구조   \n",
       "..                                     ...      ...   \n",
       "639           벽장 부위 결로가 발생하는 주된 원인은 무엇일까요?   타 마감하자   \n",
       "640       벽체 결로가 AD나 PD에 면한다면 그 원인이 무엇인가요?   타 마감하자   \n",
       "641  외벽 모서리 부위에 결로가 발생하는 것을 예방하는 방법이 있을까요?   타 마감하자   \n",
       "642      창호 결로를 해결하기 위한 가장 효과적인 방법은 무엇인가요?   타 마감하자   \n",
       "643    AD, PD에 면한 벽체 결로에 대한 대책은 어떤 것이 있나요?   타 마감하자   \n",
       "\n",
       "                                                  답변_1  \\\n",
       "0    면진장치란 지반에서 오는 진동 에너지를 흡수하여 건물에 주는 진동을 줄여주는 진동 ...   \n",
       "1                   내진 설계의 종류로 내진구조, 제진구조, 면진구조가 있습니다.   \n",
       "2    철골구조는 건물의 외벽에는 그다지 하중이 걸리지 않기 때문에 고층 건물의 건축이 가...   \n",
       "3    철근철골콘크리트는 철골과 철근, 그리고 콘크리트를 함께 사용하는 건축 구조입니다. ...   \n",
       "4                          철골구조는 일반철골구조와 경량철골구조가 있습니다.   \n",
       "..                                                 ...   \n",
       "639  벽장 부위 결로의 원인은 난방이 이웃한 방과동일한 조건이 되나 그 방에 비해 저온인...   \n",
       "640  AD, PD에 면한 벽체 결로의 원인은 외기에 접하는 면 좌, 우측 벽체에는 단열재...   \n",
       "641  외벽모서리 부위에 결로가 발생하는 원인은 높은 온도차 때문입니다. 외벽 모서리의 경...   \n",
       "642  창호결로의 대책은 제품을 선정할 때 KS에 규정된 프레임을 선정하고 유리의 열관류율...   \n",
       "643  AD, PD에 면한 벽체 결로에 대한 대책은 단열재를 미실하게 시공하여 결로가 생기...   \n",
       "\n",
       "                                                  답변_2  \\\n",
       "0    면진장치란 건물의 지반에서 발생하는 진동 에너지를 흡수하여 건물을 보호하고, 진동을...   \n",
       "1    내진설계에는 내진구조, 제진구조, 면진구조가 있습니다. 내진구조는 건물 구조물이 지...   \n",
       "2    철골구조의 장점은 건물의 외벽에는 그다지 하중이 걸리지 않기 때문에 고층 건물의 건...   \n",
       "3    철골철근콘크리트 구조는 건축물을 지탱하는 주요 구조물인 철골과 철근, 그리고 콘크리...   \n",
       "4    철골구조는 일반철골구조와 경량철골구조가 있습니다. 일반철골구조는 주로 대형 건물이나...   \n",
       "..                                                 ...   \n",
       "639  벽장 부위 결로의 원인은 주로 난방이 자리잡은 방이 내부 온도가 낮은 반면, 외부 ...   \n",
       "640  AD, PD에 면한 벽체 결로의 원인은 외기에 접하는 면 좌, 우측 벽체에는 단열재...   \n",
       "641  외벽 모서리 부위에 결로가 발생하는 원인은 중요한 역할을 합니다. 외부에 비치는 세...   \n",
       "642  창호 결로의 대책은 KS에 규정된 프레임을 선정하고 유리의 열관류율 및 결로 발생 ...   \n",
       "643  AD, PD에 면한 벽체 결로에 대한 대책은 단열재를 미실하게 시공하여 결로가 생기...   \n",
       "\n",
       "                                                  답변_3  \\\n",
       "0    면진장치란 지반으로부터 발생하는 진동 에너지를 흡수하여 건물에 전달되는 진동을 줄여...   \n",
       "1    내진설계에는 주로 내진구조, 제진구조, 면진구조의 세 가지 종류가 있습니다. 이들은...   \n",
       "2    철골구조의 장점은 건물의 외벽에 하중이 적게 걸리기 때문에 고층 건물의 건축이 용이...   \n",
       "3    철골철근 콘크리트 구조는 건축물을 지탱하기 위한 구조물에서 일반적으로 사용되는 방식...   \n",
       "4    철골구조는 주로 일반철골구조와 경량철골구조로 나뉘어집니다. 이들은 건축 시스템에 따...   \n",
       "..                                                 ...   \n",
       "639  벽장 부위 결로가 발생하는 원인은 난방이 잘 이루어지지 않아 해당 공간이 저온인 반...   \n",
       "640  AD, PD에 면한 벽체 결로의 주된 원인은 외기에 접하는 면 좌, 우측 벽체에 단...   \n",
       "641  외벽 모서리 부위에 결로가 발생하는 원인으로는 높은 온도차가 대표적입니다. 외벽 모...   \n",
       "642  창호 결로를 예방하기 위한 대책은 KS에 규정된 프레임을 선택하고, 열관류율이 적은...   \n",
       "643  AD, PD에 면한 벽체 결로에 대한 대책은 단열재를 미실하게 시공하여 결로가 생기...   \n",
       "\n",
       "                                                  답변_4  \\\n",
       "0    면진장치는 건물의 지반으로부터 오는 진동 에너지를 흡수하여 건물에 전달되는 진동을 ...   \n",
       "1    내진설계에는 주로 내진구조, 제진구조, 면진구조가 사용됩니다. 내진구조는 건물 구조...   \n",
       "2    철골구조의 장점은 건물의 외벽이 하중이 걸리지 않아 공간 활용이 용이하고, 고층 건...   \n",
       "3    철골철근콘크리트 구조는 철골과 철근, 그리고 콘크리트를 함께 사용하여 만들어지는 건...   \n",
       "4    철골구조는 주로 일반철골구조와 경량철골구조로 구분됩니다. 이외에도 최근에는 고층 건...   \n",
       "..                                                 ...   \n",
       "639  벽장 부위 결로가 발생하는 원인은 난방이 인접한 방과 같은 조건을 갖추고 있지만, ...   \n",
       "640  AD, PD에 면한 벽체 결로의 원인으로는 외기에 접하는 면 좌, 우측 벽체는 일반...   \n",
       "641  외벽 모서리 부위에 결로가 발생하는 원인은 실내와 외부의 온도차 때문입니다. 외벽 ...   \n",
       "642  창호 결로의 대책은 여러 가지가 있습니다. 먼저, 창호를 선택할 때 KS에 규정된 ...   \n",
       "643  AD, PD에 면한 벽체 결로에 대한 대책은 단열재를 미실하게 시공하여 결로가 생기...   \n",
       "\n",
       "                                                  답변_5  \n",
       "0    면진장치는 건물에 오는 지반 진동의 영향을 최대한으로 흡수하여 건물에 전달되는 진동...  \n",
       "1    내진 설계에는 다양한 종류가 있지만, 대표적으로 내진구조, 제진구조, 면진구조가 있...  \n",
       "2    철골구조의 장점은 건물의 외벽에 하중이 크게 걸리지 않아 고층 건물을 건축할 수 있...  \n",
       "3    철골철근 콘크리트 구조는 강철 골조와 강철 철근, 그리고 콘크리트를 함께 사용하여 ...  \n",
       "4    철골구조는 일반철골구조와 경량철골구조 두 가지 방식이 주로 사용됩니다. 일반철골구조...  \n",
       "..                                                 ...  \n",
       "639  벽장 부위 결로의 주된 원인은 충분한 환기가 이루어지지 않는 환경과 과도한 습기가 ...  \n",
       "640  AD, PD에 면한 벽체 결로의 원인으로는 외부 공기에 노출된 벽면이 실내보다 냉각...  \n",
       "641  외벽 모서리 부위에 결로가 발생하는 주요 원인은 높은 온도차입니다. 외벽 모서리는 ...  \n",
       "642  창호 결로를 방지하기 위한 대책으로는 KS에 규정된 프레임을 사용하고, 열관류율 및...  \n",
       "643  AD, PD에 면한 벽체의 결로에 대한 대책으로는 단열재를 미실하게 시공하여 결로가...  \n",
       "\n",
       "[644 rows x 9 columns]"
      ]
     },
     "execution_count": 2,
     "metadata": {},
     "output_type": "execute_result"
    }
   ],
   "source": [
    "train_df = pd.read_csv('../train.csv')\n",
    "train_df"
   ]
  },
  {
   "cell_type": "code",
   "execution_count": 3,
   "id": "8a60a5e2-b914-48d8-8253-e582ee314684",
   "metadata": {
    "id": "8a60a5e2-b914-48d8-8253-e582ee314684",
    "outputId": "553483ef-5ee3-4340-e809-634ef65424bf"
   },
   "outputs": [
    {
     "data": {
      "text/plain": [
       "category\n",
       "마감재       272\n",
       "인테리어      123\n",
       "시공        111\n",
       "마감하자       60\n",
       "건축구조       31\n",
       "기타         27\n",
       "타 마감하자     20\n",
       "Name: count, dtype: int64"
      ]
     },
     "execution_count": 3,
     "metadata": {},
     "output_type": "execute_result"
    }
   ],
   "source": [
    "train_df['category'].value_counts()"
   ]
  },
  {
   "cell_type": "code",
   "execution_count": 4,
   "id": "bb57c334-b271-4fcc-b376-bfe369cf4f0b",
   "metadata": {
    "id": "bb57c334-b271-4fcc-b376-bfe369cf4f0b",
    "outputId": "294d67a3-711c-48c7-d395-525d864efa5a"
   },
   "outputs": [
    {
     "data": {
      "text/html": [
       "<div>\n",
       "<style scoped>\n",
       "    .dataframe tbody tr th:only-of-type {\n",
       "        vertical-align: middle;\n",
       "    }\n",
       "\n",
       "    .dataframe tbody tr th {\n",
       "        vertical-align: top;\n",
       "    }\n",
       "\n",
       "    .dataframe thead th {\n",
       "        text-align: right;\n",
       "    }\n",
       "</style>\n",
       "<table border=\"1\" class=\"dataframe\">\n",
       "  <thead>\n",
       "    <tr style=\"text-align: right;\">\n",
       "      <th></th>\n",
       "      <th>질문</th>\n",
       "      <th>답변</th>\n",
       "    </tr>\n",
       "  </thead>\n",
       "  <tbody>\n",
       "    <tr>\n",
       "      <th>0</th>\n",
       "      <td>면진장치가 뭐야?</td>\n",
       "      <td>면진장치란 지반에서 오는 진동 에너지를 흡수하여 건물에 주는 진동을 줄여주는 진동 ...</td>\n",
       "    </tr>\n",
       "    <tr>\n",
       "      <th>1</th>\n",
       "      <td>내진설계의 종류 좀 알려줘</td>\n",
       "      <td>내진 설계의 종류로 내진구조, 제진구조, 면진구조가 있습니다.</td>\n",
       "    </tr>\n",
       "    <tr>\n",
       "      <th>2</th>\n",
       "      <td>철골구조의 장점이 뭐야?</td>\n",
       "      <td>철골구조는 건물의 외벽에는 그다지 하중이 걸리지 않기 때문에 고층 건물의 건축이 가...</td>\n",
       "    </tr>\n",
       "    <tr>\n",
       "      <th>3</th>\n",
       "      <td>철골철근 콘크리트 구조가 뭐야?</td>\n",
       "      <td>철근철골콘크리트는 철골과 철근, 그리고 콘크리트를 함께 사용하는 건축 구조입니다. ...</td>\n",
       "    </tr>\n",
       "    <tr>\n",
       "      <th>4</th>\n",
       "      <td>철골구조는 어떤 방식이 있어?</td>\n",
       "      <td>철골구조는 일반철골구조와 경량철골구조가 있습니다.</td>\n",
       "    </tr>\n",
       "    <tr>\n",
       "      <th>...</th>\n",
       "      <td>...</td>\n",
       "      <td>...</td>\n",
       "    </tr>\n",
       "    <tr>\n",
       "      <th>6435</th>\n",
       "      <td>벽장 부위 결로가 발생하는 주된 원인은 무엇일까요?</td>\n",
       "      <td>벽장 부위 결로의 주된 원인은 충분한 환기가 이루어지지 않는 환경과 과도한 습기가 ...</td>\n",
       "    </tr>\n",
       "    <tr>\n",
       "      <th>6436</th>\n",
       "      <td>벽체 결로가 AD나 PD에 면한다면 그 원인이 무엇인가요?</td>\n",
       "      <td>AD, PD에 면한 벽체 결로의 원인으로는 외부 공기에 노출된 벽면이 실내보다 냉각...</td>\n",
       "    </tr>\n",
       "    <tr>\n",
       "      <th>6437</th>\n",
       "      <td>외벽 모서리 부위에 결로가 발생하는 것을 예방하는 방법이 있을까요?</td>\n",
       "      <td>외벽 모서리 부위에 결로가 발생하는 주요 원인은 높은 온도차입니다. 외벽 모서리는 ...</td>\n",
       "    </tr>\n",
       "    <tr>\n",
       "      <th>6438</th>\n",
       "      <td>창호 결로를 해결하기 위한 가장 효과적인 방법은 무엇인가요?</td>\n",
       "      <td>창호 결로를 방지하기 위한 대책으로는 KS에 규정된 프레임을 사용하고, 열관류율 및...</td>\n",
       "    </tr>\n",
       "    <tr>\n",
       "      <th>6439</th>\n",
       "      <td>AD, PD에 면한 벽체 결로에 대한 대책은 어떤 것이 있나요?</td>\n",
       "      <td>AD, PD에 면한 벽체의 결로에 대한 대책으로는 단열재를 미실하게 시공하여 결로가...</td>\n",
       "    </tr>\n",
       "  </tbody>\n",
       "</table>\n",
       "<p>6440 rows × 2 columns</p>\n",
       "</div>"
      ],
      "text/plain": [
       "                                         질문  \\\n",
       "0                                 면진장치가 뭐야?   \n",
       "1                            내진설계의 종류 좀 알려줘   \n",
       "2                             철골구조의 장점이 뭐야?   \n",
       "3                         철골철근 콘크리트 구조가 뭐야?   \n",
       "4                          철골구조는 어떤 방식이 있어?   \n",
       "...                                     ...   \n",
       "6435           벽장 부위 결로가 발생하는 주된 원인은 무엇일까요?   \n",
       "6436       벽체 결로가 AD나 PD에 면한다면 그 원인이 무엇인가요?   \n",
       "6437  외벽 모서리 부위에 결로가 발생하는 것을 예방하는 방법이 있을까요?   \n",
       "6438      창호 결로를 해결하기 위한 가장 효과적인 방법은 무엇인가요?   \n",
       "6439    AD, PD에 면한 벽체 결로에 대한 대책은 어떤 것이 있나요?   \n",
       "\n",
       "                                                     답변  \n",
       "0     면진장치란 지반에서 오는 진동 에너지를 흡수하여 건물에 주는 진동을 줄여주는 진동 ...  \n",
       "1                    내진 설계의 종류로 내진구조, 제진구조, 면진구조가 있습니다.  \n",
       "2     철골구조는 건물의 외벽에는 그다지 하중이 걸리지 않기 때문에 고층 건물의 건축이 가...  \n",
       "3     철근철골콘크리트는 철골과 철근, 그리고 콘크리트를 함께 사용하는 건축 구조입니다. ...  \n",
       "4                           철골구조는 일반철골구조와 경량철골구조가 있습니다.  \n",
       "...                                                 ...  \n",
       "6435  벽장 부위 결로의 주된 원인은 충분한 환기가 이루어지지 않는 환경과 과도한 습기가 ...  \n",
       "6436  AD, PD에 면한 벽체 결로의 원인으로는 외부 공기에 노출된 벽면이 실내보다 냉각...  \n",
       "6437  외벽 모서리 부위에 결로가 발생하는 주요 원인은 높은 온도차입니다. 외벽 모서리는 ...  \n",
       "6438  창호 결로를 방지하기 위한 대책으로는 KS에 규정된 프레임을 사용하고, 열관류율 및...  \n",
       "6439  AD, PD에 면한 벽체의 결로에 대한 대책으로는 단열재를 미실하게 시공하여 결로가...  \n",
       "\n",
       "[6440 rows x 2 columns]"
      ]
     },
     "execution_count": 4,
     "metadata": {},
     "output_type": "execute_result"
    }
   ],
   "source": [
    "pairs = []\n",
    "for i in range(1, 7):  # '답변_1'부터 '답변_6'까지\n",
    "    # Check if the answer column exists in the data\n",
    "    if f'답변_{i}' in train_df.columns:\n",
    "        # Pair 질문_1 with 답변_i\n",
    "        pair_1 = train_df[['질문_1', f'답변_{i}']].rename(columns={'질문_1': '질문', f'답변_{i}': '답변'})\n",
    "        pairs.append(pair_1)\n",
    "\n",
    "        # Pair 질문_2 with 답변_i\n",
    "        pair_2 = train_df[['질문_2', f'답변_{i}']].rename(columns={'질문_2': '질문', f'답변_{i}': '답변'})\n",
    "        pairs.append(pair_2)\n",
    "\n",
    "# Combine all pairs into a single dataframe\n",
    "train = pd.concat(pairs, ignore_index=True)\n",
    "\n",
    "train"
   ]
  },
  {
   "cell_type": "markdown",
   "id": "2c2f177e-af47-42de-8cac-2114cbe24a05",
   "metadata": {
    "id": "2c2f177e-af47-42de-8cac-2114cbe24a05"
   },
   "source": [
    "## 토크나이징한 데이터 길이 분석"
   ]
  },
  {
   "cell_type": "code",
   "execution_count": 5,
   "id": "0aea0dbf-1bf5-402a-aacd-7486e431e5cc",
   "metadata": {
    "id": "0aea0dbf-1bf5-402a-aacd-7486e431e5cc"
   },
   "outputs": [],
   "source": [
    "from transformers import AutoTokenizer, AutoModelForCausalLM, BitsAndBytesConfig\n",
    "import torch\n",
    "from tqdm.notebook import tqdm\n",
    "compute_dtype = getattr(torch, 'float16')"
   ]
  },
  {
   "cell_type": "code",
   "execution_count": 6,
   "id": "ad12c22e-0839-4d94-8baa-e86b90aaa7c0",
   "metadata": {
    "id": "ad12c22e-0839-4d94-8baa-e86b90aaa7c0"
   },
   "outputs": [],
   "source": [
    "bnb_config = BitsAndBytesConfig(\n",
    "  load_in_4bit=True,\n",
    "  bnb_4bit_use_double_quant=True,\n",
    "  bnb_4bit_quant_type=\"nf4\",\n",
    "  bnb_4bit_compute_dtype=torch.bfloat16\n",
    ")"
   ]
  },
  {
   "cell_type": "code",
   "execution_count": 7,
   "id": "203d75c5-2082-4691-b223-a6fec76d7528",
   "metadata": {
    "id": "203d75c5-2082-4691-b223-a6fec76d7528"
   },
   "outputs": [
    {
     "name": "stderr",
     "output_type": "stream",
     "text": [
      "Special tokens have been added in the vocabulary, make sure the associated word embeddings are fine-tuned or trained.\n"
     ]
    }
   ],
   "source": [
    "# model = AutoModelForCausalLM.from_pretrained('beomi/llama-2-ko-7b', quantization_config=bnb_config, device_map={'': 0})\n",
    "# fine-tuning으로 사용할 foundation model의 tokenizer 사용\n",
    "tokenizer = AutoTokenizer.from_pretrained('beomi/KoAlpaca-Polyglot-5.8B')\n",
    "tokenizer.pad_token = tokenizer.eos_token\n",
    "tokenizer.padding_side = \"right\""
   ]
  },
  {
   "cell_type": "code",
   "execution_count": 8,
   "id": "eb2678ae-dd71-40d7-b5fb-1d7f099a9ce4",
   "metadata": {
    "colab": {
     "referenced_widgets": [
      "2ce8e9f065f94b31880a6de94b73d8fe"
     ]
    },
    "id": "eb2678ae-dd71-40d7-b5fb-1d7f099a9ce4",
    "outputId": "dbb73b63-6e41-431b-a63c-adbd062f602c"
   },
   "outputs": [
    {
     "data": {
      "application/vnd.jupyter.widget-view+json": {
       "model_id": "0e33dd134a9c4d5191622979b97ae8ac",
       "version_major": 2,
       "version_minor": 0
      },
      "text/plain": [
       "  0%|          | 0/644 [00:00<?, ?it/s]"
      ]
     },
     "metadata": {},
     "output_type": "display_data"
    },
    {
     "name": "stdout",
     "output_type": "stream",
     "text": [
      "Done.\n"
     ]
    }
   ],
   "source": [
    "# 데이터 포맷팅 및 토크나이징\n",
    "formatted_data = []\n",
    "for _, row in tqdm(train_df.iterrows(), total = len(train_df)):\n",
    "    for q_col in ['질문_1', '질문_2']:\n",
    "        for a_col in ['답변_1', '답변_2', '답변_3', '답변_4', '답변_5']:\n",
    "            # 질문과 답변 쌍을 </s> token으로 연결\n",
    "            input_text = row[q_col] + tokenizer.eos_token + row[a_col]\n",
    "            input_ids = tokenizer.encode(input_text, return_tensors='pt')\n",
    "            formatted_data.append(input_ids)\n",
    "print('Done.')"
   ]
  },
  {
   "cell_type": "code",
   "execution_count": 9,
   "id": "e2601c7e-c2b8-4583-a00b-08a1c804c90e",
   "metadata": {
    "id": "e2601c7e-c2b8-4583-a00b-08a1c804c90e",
    "outputId": "d9de4f37-77a4-41f9-ce9d-13393dd896bf"
   },
   "outputs": [
    {
     "data": {
      "text/plain": [
       "array([ 35,  55,  79, ..., 161, 137, 161])"
      ]
     },
     "execution_count": 9,
     "metadata": {},
     "output_type": "execute_result"
    }
   ],
   "source": [
    "train_length = []\n",
    "for i in range(len(formatted_data)):\n",
    "    train_length.append(len(formatted_data[i][0]))\n",
    "train_length = np.array(train_length)\n",
    "train_length"
   ]
  },
  {
   "cell_type": "code",
   "execution_count": 10,
   "id": "4451ae05-d3af-40de-948a-8c36e5666547",
   "metadata": {
    "id": "4451ae05-d3af-40de-948a-8c36e5666547",
    "outputId": "1ab1f5c7-e11d-47ba-a822-bc94a2f71d95"
   },
   "outputs": [
    {
     "data": {
      "image/png": "[encoded data removed]",
      "text/plain": [
       "<Figure size 1200x500 with 1 Axes>"
      ]
     },
     "metadata": {},
     "output_type": "display_data"
    }
   ],
   "source": [
    "plt.figure(figsize=(12, 5))\n",
    "plt.hist(train_length, bins=200, alpha=0.5, color = 'r', label = 'word')\n",
    "plt.yscale('log')\n",
    "# 그래프 제목\n",
    "plt.title('Log-Histogram of length of reveiw')\n",
    "# 그래프 x 축 라벨\n",
    "plt.xlabel('Length of text')\n",
    "# 그래프 y 축 라벨\n",
    "plt.ylabel('Number of text')\n",
    "plt.show()"
   ]
  },
  {
   "cell_type": "code",
   "execution_count": 11,
   "id": "214ff777-1e3e-4200-85cd-80137fbd352a",
   "metadata": {
    "id": "214ff777-1e3e-4200-85cd-80137fbd352a",
    "outputId": "3ee45066-83d7-4369-d499-21c42b2f8df6"
   },
   "outputs": [
    {
     "data": {
      "image/png": "[encoded data removed]",
      "text/plain": [
       "<Figure size 640x480 with 1 Axes>"
      ]
     },
     "metadata": {},
     "output_type": "display_data"
    }
   ],
   "source": [
    "# 상자 그림(Boxplot) 그리기\n",
    "sns.boxplot(data=train_length)\n",
    "# 그래프 제목 추가\n",
    "plt.title('Boxplot of Train Data')\n",
    "# 그래프 표시\n",
    "plt.show()"
   ]
  },
  {
   "cell_type": "code",
   "execution_count": 12,
   "id": "aed57289-0627-4079-b9eb-1570c7357e04",
   "metadata": {
    "id": "aed57289-0627-4079-b9eb-1570c7357e04",
    "outputId": "410ad8b4-afeb-4b17-91ee-93a22d72585a"
   },
   "outputs": [
    {
     "name": "stdout",
     "output_type": "stream",
     "text": [
      "텍스트 길이 최댓값: 600\n",
      "텍스트 길이 최솟값: 18\n",
      "텍스트 길이 평균값: 102.58\n",
      "텍스트 길이 표준편차: 49.64\n",
      "텍스트 길이 중간값: 96.0\n",
      "텍스트 길이 제1사분위: 73.0\n",
      "텍스트 길이 제3사분위: 121.0\n"
     ]
    }
   ],
   "source": [
    "print('텍스트 길이 최댓값: {}'.format(np.max(train_length)))\n",
    "print('텍스트 길이 최솟값: {}'.format(np.min(train_length)))\n",
    "print('텍스트 길이 평균값: {:.2f}'.format(np.mean(train_length)))\n",
    "print('텍스트 길이 표준편차: {:.2f}'.format(np.std(train_length)))\n",
    "print('텍스트 길이 중간값: {}'.format(np.median(train_length)))\n",
    "print('텍스트 길이 제1사분위: {}'.format(np.percentile(train_length, 25)))\n",
    "print('텍스트 길이 제3사분위: {}'.format(np.percentile(train_length, 75)))"
   ]
  },
  {
   "cell_type": "code",
   "execution_count": null,
   "id": "5130fa2f-0dac-44c2-ab6d-b991da0f248b",
   "metadata": {
    "id": "5130fa2f-0dac-44c2-ab6d-b991da0f248b"
   },
   "outputs": [],
   "source": []
  }
 ],
 "metadata": {
  "colab": {
   "provenance": []
  },
  "kernelspec": {
   "display_name": "Python 3 (ipykernel)",
   "language": "python",
   "name": "python3"
  },
  "language_info": {
   "codemirror_mode": {
    "name": "ipython",
    "version": 3
   },
   "file_extension": ".py",
   "mimetype": "text/x-python",
   "name": "python",
   "nbconvert_exporter": "python",
   "pygments_lexer": "ipython3",
   "version": "3.11.5"
  }
 },
 "nbformat": 4,
 "nbformat_minor": 5
}
