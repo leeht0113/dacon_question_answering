{
 "cells": [
  {
   "cell_type": "code",
   "execution_count": 1,
   "id": "94d45fca-9b9b-494a-a4ac-bf39996a163b",
   "metadata": {
    "id": "94d45fca-9b9b-494a-a4ac-bf39996a163b"
   },
   "outputs": [],
   "source": [
    "import pandas as pd\n",
    "import numpy as np\n",
    "import matplotlib.pyplot as plt\n",
    "import seaborn as sns"
   ]
  },
  {
   "cell_type": "code",
   "execution_count": 2,
   "id": "e7216eaf-2e5e-44be-9354-52d9b7a23de7",
   "metadata": {
    "id": "e7216eaf-2e5e-44be-9354-52d9b7a23de7",
    "outputId": "2812ccf2-87ea-4af5-fe4e-b8c94ec2cc70"
   },
   "outputs": [
    {
     "data": {
      "text/html": [
       "<div>\n",
       "<style scoped>\n",
       "    .dataframe tbody tr th:only-of-type {\n",
       "        vertical-align: middle;\n",
       "    }\n",
       "\n",
       "    .dataframe tbody tr th {\n",
       "        vertical-align: top;\n",
       "    }\n",
       "\n",
       "    .dataframe thead th {\n",
       "        text-align: right;\n",
       "    }\n",
       "</style>\n",
       "<table border=\"1\" class=\"dataframe\">\n",
       "  <thead>\n",
       "    <tr style=\"text-align: right;\">\n",
       "      <th></th>\n",
       "      <th>질문</th>\n",
       "      <th>답변</th>\n",
       "    </tr>\n",
       "  </thead>\n",
       "  <tbody>\n",
       "    <tr>\n",
       "      <th>0</th>\n",
       "      <td>면진장치가 뭐야?</td>\n",
       "      <td>면진장치란 지반에서 오는 진동 에너지를 흡수하여 건물에 주는 진동을 줄여주는 진동 ...</td>\n",
       "    </tr>\n",
       "    <tr>\n",
       "      <th>1</th>\n",
       "      <td>면진장치가 뭐야?</td>\n",
       "      <td>면진장치란 건물의 지반에서 발생하는 진동 에너지를 흡수하여 건물을 보호하고, 진동을...</td>\n",
       "    </tr>\n",
       "    <tr>\n",
       "      <th>2</th>\n",
       "      <td>면진장치가 뭐야?</td>\n",
       "      <td>면진장치란 지반으로부터 발생하는 진동 에너지를 흡수하여 건물에 전달되는 진동을 줄여...</td>\n",
       "    </tr>\n",
       "    <tr>\n",
       "      <th>3</th>\n",
       "      <td>면진장치가 뭐야?</td>\n",
       "      <td>면진장치는 건물의 지반으로부터 오는 진동 에너지를 흡수하여 건물에 전달되는 진동을 ...</td>\n",
       "    </tr>\n",
       "    <tr>\n",
       "      <th>4</th>\n",
       "      <td>면진장치가 뭐야?</td>\n",
       "      <td>면진장치는 건물에 오는 지반 진동의 영향을 최대한으로 흡수하여 건물에 전달되는 진동...</td>\n",
       "    </tr>\n",
       "    <tr>\n",
       "      <th>...</th>\n",
       "      <td>...</td>\n",
       "      <td>...</td>\n",
       "    </tr>\n",
       "    <tr>\n",
       "      <th>6997</th>\n",
       "      <td>현관문 주위 결로의 대책은 뭐야? 또한 현관문 주위 결로의 원인은 뭐야??</td>\n",
       "      <td>현관문 주위 결로의 대책은 규격제품을 사용하고 방화문 현관문 내부 종이 허니컴 사이...</td>\n",
       "    </tr>\n",
       "    <tr>\n",
       "      <th>6998</th>\n",
       "      <td>부엌 및 욕실의 결로의 원인은 뭐야? 또한 AD, PD에 면한 벽체 결로에 대한 대...</td>\n",
       "      <td>부엌이나 욕실의 경우 외벽이나 비 난방공간에 접한 면이 벽체의 일부인 부엌이나 욕실...</td>\n",
       "    </tr>\n",
       "    <tr>\n",
       "      <th>6999</th>\n",
       "      <td>발코니에 결로가 발생하는 원인은 뭐야? 또한 벽장 부위 결로의 원인이 뭐야??</td>\n",
       "      <td>발코니에 결로가 발생하는 원인은 발코니에 단열 및 방습조치가 되지 않은 상태에서 실...</td>\n",
       "    </tr>\n",
       "    <tr>\n",
       "      <th>7000</th>\n",
       "      <td>부엌 및 욕실의 결로의 대책은 뭐야? 또한 외벽 모서리 부위에 결로가 발생하는 원인...</td>\n",
       "      <td>부엌 및 욕실의 결로에 대한 대책은 환기구 설치입니다. 부엌 및 욕실의 결로는 주로...</td>\n",
       "    </tr>\n",
       "    <tr>\n",
       "      <th>7001</th>\n",
       "      <td>발코니에 결로가 발생하는 원인은 뭐야? 또한 창호 결로의 대책은 뭐야??</td>\n",
       "      <td>발코니에 결로가 발생하는 원인은 발코니에 단열 및 방습조치가 되지 않은 상태에서 실...</td>\n",
       "    </tr>\n",
       "  </tbody>\n",
       "</table>\n",
       "<p>7002 rows × 2 columns</p>\n",
       "</div>"
      ],
      "text/plain": [
       "                                                     질문  \\\n",
       "0                                             면진장치가 뭐야?   \n",
       "1                                             면진장치가 뭐야?   \n",
       "2                                             면진장치가 뭐야?   \n",
       "3                                             면진장치가 뭐야?   \n",
       "4                                             면진장치가 뭐야?   \n",
       "...                                                 ...   \n",
       "6997          현관문 주위 결로의 대책은 뭐야? 또한 현관문 주위 결로의 원인은 뭐야??   \n",
       "6998  부엌 및 욕실의 결로의 원인은 뭐야? 또한 AD, PD에 면한 벽체 결로에 대한 대...   \n",
       "6999        발코니에 결로가 발생하는 원인은 뭐야? 또한 벽장 부위 결로의 원인이 뭐야??   \n",
       "7000  부엌 및 욕실의 결로의 대책은 뭐야? 또한 외벽 모서리 부위에 결로가 발생하는 원인...   \n",
       "7001           발코니에 결로가 발생하는 원인은 뭐야? 또한 창호 결로의 대책은 뭐야??   \n",
       "\n",
       "                                                     답변  \n",
       "0     면진장치란 지반에서 오는 진동 에너지를 흡수하여 건물에 주는 진동을 줄여주는 진동 ...  \n",
       "1     면진장치란 건물의 지반에서 발생하는 진동 에너지를 흡수하여 건물을 보호하고, 진동을...  \n",
       "2     면진장치란 지반으로부터 발생하는 진동 에너지를 흡수하여 건물에 전달되는 진동을 줄여...  \n",
       "3     면진장치는 건물의 지반으로부터 오는 진동 에너지를 흡수하여 건물에 전달되는 진동을 ...  \n",
       "4     면진장치는 건물에 오는 지반 진동의 영향을 최대한으로 흡수하여 건물에 전달되는 진동...  \n",
       "...                                                 ...  \n",
       "6997  현관문 주위 결로의 대책은 규격제품을 사용하고 방화문 현관문 내부 종이 허니컴 사이...  \n",
       "6998  부엌이나 욕실의 경우 외벽이나 비 난방공간에 접한 면이 벽체의 일부인 부엌이나 욕실...  \n",
       "6999  발코니에 결로가 발생하는 원인은 발코니에 단열 및 방습조치가 되지 않은 상태에서 실...  \n",
       "7000  부엌 및 욕실의 결로에 대한 대책은 환기구 설치입니다. 부엌 및 욕실의 결로는 주로...  \n",
       "7001  발코니에 결로가 발생하는 원인은 발코니에 단열 및 방습조치가 되지 않은 상태에서 실...  \n",
       "\n",
       "[7002 rows x 2 columns]"
      ]
     },
     "execution_count": 2,
     "metadata": {},
     "output_type": "execute_result"
    }
   ],
   "source": [
    "train_df = pd.read_csv('../train_preprocess/train_preprocess_data_aug.csv')\n",
    "train_df"
   ]
  },
  {
   "cell_type": "code",
   "execution_count": 3,
   "id": "b2b8a9a7",
   "metadata": {},
   "outputs": [
    {
     "data": {
      "text/plain": [
       "count    7002.000000\n",
       "mean        4.270637\n",
       "std         2.384248\n",
       "min         1.000000\n",
       "25%         3.000000\n",
       "50%         4.000000\n",
       "75%         5.000000\n",
       "max        34.000000\n",
       "Name: 답변, dtype: float64"
      ]
     },
     "execution_count": 3,
     "metadata": {},
     "output_type": "execute_result"
    }
   ],
   "source": [
    "length = train_df['답변'].apply(lambda x: len(x.split('.')))\n",
    "length.describe()"
   ]
  },
  {
   "cell_type": "code",
   "execution_count": null,
   "id": "2d8b68e7",
   "metadata": {},
   "outputs": [],
   "source": [
    "\n",
    "sns.boxplot(data=length)\n",
    "plt.title('Boxplot of Answer Length')\n",
    "plt.show()"
   ]
  },
  {
   "cell_type": "code",
   "execution_count": 4,
   "id": "f5b5298c",
   "metadata": {},
   "outputs": [
    {
     "data": {
      "application/vnd.jupyter.widget-view+json": {
       "model_id": "d0f43a15533c4cc6a597380056107a72",
       "version_major": 2,
       "version_minor": 0
      },
      "text/plain": [
       "VBox(children=(HTML(value='<center> <img\\nsrc=https://huggingface.co/front/assets/huggingface_logo-noborder.sv…"
      ]
     },
     "metadata": {},
     "output_type": "display_data"
    }
   ],
   "source": [
    "from huggingface_hub import notebook_login\n",
    "\n",
    "notebook_login()"
   ]
  },
  {
   "cell_type": "markdown",
   "id": "2c2f177e-af47-42de-8cac-2114cbe24a05",
   "metadata": {
    "id": "2c2f177e-af47-42de-8cac-2114cbe24a05"
   },
   "source": [
    "## 토크나이징한 데이터 길이 분석"
   ]
  },
  {
   "cell_type": "code",
   "execution_count": 5,
   "id": "0aea0dbf-1bf5-402a-aacd-7486e431e5cc",
   "metadata": {
    "id": "0aea0dbf-1bf5-402a-aacd-7486e431e5cc"
   },
   "outputs": [],
   "source": [
    "from transformers import AutoTokenizer, AutoModelForCausalLM, BitsAndBytesConfig\n",
    "import torch\n",
    "from tqdm.notebook import tqdm"
   ]
  },
  {
   "cell_type": "code",
   "execution_count": 6,
   "id": "203d75c5-2082-4691-b223-a6fec76d7528",
   "metadata": {
    "id": "203d75c5-2082-4691-b223-a6fec76d7528"
   },
   "outputs": [],
   "source": [
    "# model = AutoModelForCausalLM.from_pretrained('beomi/llama-2-ko-7b', quantization_config=bnb_config, device_map={'': 0})\n",
    "# fine-tuning으로 사용할 foundation model의 tokenizer 사용\n",
    "model_id = \"beomi/llama-2-koen-13b\"\n",
    "\n",
    "bnb_config = BitsAndBytesConfig(\n",
    "    load_in_4bit=True,\n",
    "    bnb_4bit_use_double_quant=True,\n",
    "    bnb_4bit_quant_type=\"nf4\",\n",
    "    bnb_4bit_compute_dtype=torch.float16\n",
    ")\n",
    "\n",
    "tokenizer = AutoTokenizer.from_pretrained(\n",
    "    model_id\n",
    "    )"
   ]
  },
  {
   "cell_type": "code",
   "execution_count": 7,
   "id": "e829af73",
   "metadata": {},
   "outputs": [
    {
     "data": {
      "text/plain": [
       "LlamaTokenizerFast(name_or_path='beomi/llama-2-koen-13b', vocab_size=46336, model_max_length=1000000000000000019884624838656, is_fast=True, padding_side='left', truncation_side='right', special_tokens={'bos_token': '<s>', 'eos_token': '</s>', 'unk_token': '<unk>', 'pad_token': '</s>'}, clean_up_tokenization_spaces=False),  added_tokens_decoder={\n",
       "\t0: AddedToken(\"<unk>\", rstrip=False, lstrip=False, single_word=False, normalized=False, special=True),\n",
       "\t1: AddedToken(\"<s>\", rstrip=False, lstrip=False, single_word=False, normalized=False, special=True),\n",
       "\t2: AddedToken(\"</s>\", rstrip=False, lstrip=False, single_word=False, normalized=False, special=True),\n",
       "\t46331: AddedToken(\"<|sep|>\", rstrip=False, lstrip=False, single_word=False, normalized=False, special=True),\n",
       "\t46332: AddedToken(\"<|endoftext|>\", rstrip=False, lstrip=False, single_word=False, normalized=False, special=True),\n",
       "\t46333: AddedToken(\"<|acc|>\", rstrip=False, lstrip=False, single_word=False, normalized=False, special=True),\n",
       "\t46334: AddedToken(\"<|rrn|>\", rstrip=False, lstrip=False, single_word=False, normalized=False, special=True),\n",
       "\t46335: AddedToken(\"<|tel|>\", rstrip=False, lstrip=False, single_word=False, normalized=False, special=True),\n",
       "}"
      ]
     },
     "execution_count": 7,
     "metadata": {},
     "output_type": "execute_result"
    }
   ],
   "source": [
    "tokenizer"
   ]
  },
  {
   "cell_type": "code",
   "execution_count": 8,
   "id": "eb2678ae-dd71-40d7-b5fb-1d7f099a9ce4",
   "metadata": {
    "colab": {
     "referenced_widgets": [
      "2ce8e9f065f94b31880a6de94b73d8fe"
     ]
    },
    "id": "eb2678ae-dd71-40d7-b5fb-1d7f099a9ce4",
    "outputId": "dbb73b63-6e41-431b-a63c-adbd062f602c"
   },
   "outputs": [
    {
     "data": {
      "application/vnd.jupyter.widget-view+json": {
       "model_id": "53387debdcdd4775b9abd9f46751102c",
       "version_major": 2,
       "version_minor": 0
      },
      "text/plain": [
       "  0%|          | 0/7002 [00:00<?, ?it/s]"
      ]
     },
     "metadata": {},
     "output_type": "display_data"
    },
    {
     "name": "stdout",
     "output_type": "stream",
     "text": [
      "Done.\n"
     ]
    }
   ],
   "source": [
    "# 데이터 포맷팅 및 토크나이징\n",
    "formatted_data = []\n",
    "for _, row in tqdm(train_df.iterrows(), total = len(train_df)):\n",
    "#     input_text = f\"당신은 질문에 답변하는 역할을 하는 챗봇입니다. 사용자의 질문에 올바른 답변을 하세요.\\n### 질문: {row['질문']}\\n### 답변: {row['답변']}\"+tokenizer.eos_token\n",
    "    input_text = row['답변'] + tokenizer.eos_token\n",
    "    input_ids = tokenizer.encode(input_text, return_tensors='pt')\n",
    "    formatted_data.append(input_ids)\n",
    "print('Done.')"
   ]
  },
  {
   "cell_type": "code",
   "execution_count": 9,
   "id": "e2601c7e-c2b8-4583-a00b-08a1c804c90e",
   "metadata": {
    "id": "e2601c7e-c2b8-4583-a00b-08a1c804c90e",
    "outputId": "d9de4f37-77a4-41f9-ce9d-13393dd896bf"
   },
   "outputs": [
    {
     "data": {
      "text/plain": [
       "array([ 29,  49,  63, ...,  96, 145,  89])"
      ]
     },
     "execution_count": 9,
     "metadata": {},
     "output_type": "execute_result"
    }
   ],
   "source": [
    "train_length = []\n",
    "for i in range(len(formatted_data)):\n",
    "    train_length.append(len(formatted_data[i][0]))\n",
    "train_length = np.array(train_length)\n",
    "train_length"
   ]
  },
  {
   "cell_type": "code",
   "execution_count": 10,
   "id": "4451ae05-d3af-40de-948a-8c36e5666547",
   "metadata": {
    "id": "4451ae05-d3af-40de-948a-8c36e5666547",
    "outputId": "1ab1f5c7-e11d-47ba-a822-bc94a2f71d95"
   },
   "outputs": [
    {
     "data": {
      "image/png": "[encoded data removed]",
      "text/plain": [
       "<Figure size 1200x500 with 1 Axes>"
      ]
     },
     "metadata": {},
     "output_type": "display_data"
    }
   ],
   "source": [
    "plt.figure(figsize=(12, 5))\n",
    "plt.hist(train_length, bins=200, alpha=0.5, color = 'r', label = 'word')\n",
    "plt.yscale('log')\n",
    "# 그래프 제목\n",
    "plt.title('Log-Histogram of length of reveiw')\n",
    "# 그래프 x 축 라벨\n",
    "plt.xlabel('Length of text')\n",
    "# 그래프 y 축 라벨\n",
    "plt.ylabel('Number of text')\n",
    "plt.show()"
   ]
  },
  {
   "cell_type": "code",
   "execution_count": 11,
   "id": "214ff777-1e3e-4200-85cd-80137fbd352a",
   "metadata": {
    "id": "214ff777-1e3e-4200-85cd-80137fbd352a",
    "outputId": "3ee45066-83d7-4369-d499-21c42b2f8df6"
   },
   "outputs": [
    {
     "data": {
      "image/png": "[encoded data removed]",
      "text/plain": [
       "<Figure size 640x480 with 1 Axes>"
      ]
     },
     "metadata": {},
     "output_type": "display_data"
    }
   ],
   "source": [
    "# 상자 그림(Boxplot) 그리기\n",
    "sns.boxplot(data=train_length)\n",
    "# 그래프 제목 추가\n",
    "plt.title('Boxplot of Train Data')\n",
    "# 그래프 표시\n",
    "plt.show()"
   ]
  },
  {
   "cell_type": "code",
   "execution_count": 12,
   "id": "aed57289-0627-4079-b9eb-1570c7357e04",
   "metadata": {
    "id": "aed57289-0627-4079-b9eb-1570c7357e04",
    "outputId": "410ad8b4-afeb-4b17-91ee-93a22d72585a"
   },
   "outputs": [
    {
     "name": "stdout",
     "output_type": "stream",
     "text": [
      "텍스트 길이 최댓값: 626\n",
      "텍스트 길이 최솟값: 12\n",
      "텍스트 길이 평균값: 87.36\n",
      "텍스트 길이 표준편차: 50.45\n",
      "텍스트 길이 중간값: 80.0\n",
      "텍스트 길이 제1사분위: 60.0\n",
      "텍스트 길이 제3사분위: 102.0\n"
     ]
    }
   ],
   "source": [
    "print('텍스트 길이 최댓값: {}'.format(np.max(train_length)))\n",
    "print('텍스트 길이 최솟값: {}'.format(np.min(train_length)))\n",
    "print('텍스트 길이 평균값: {:.2f}'.format(np.mean(train_length)))\n",
    "print('텍스트 길이 표준편차: {:.2f}'.format(np.std(train_length)))\n",
    "print('텍스트 길이 중간값: {}'.format(np.median(train_length)))\n",
    "print('텍스트 길이 제1사분위: {}'.format(np.percentile(train_length, 25)))\n",
    "print('텍스트 길이 제3사분위: {}'.format(np.percentile(train_length, 75)))"
   ]
  },
  {
   "cell_type": "code",
   "execution_count": null,
   "id": "5130fa2f-0dac-44c2-ab6d-b991da0f248b",
   "metadata": {
    "id": "5130fa2f-0dac-44c2-ab6d-b991da0f248b"
   },
   "outputs": [],
   "source": []
  }
 ],
 "metadata": {
  "colab": {
   "provenance": []
  },
  "kernelspec": {
   "display_name": "Python 3 (ipykernel)",
   "language": "python",
   "name": "python3"
  },
  "language_info": {
   "codemirror_mode": {
    "name": "ipython",
    "version": 3
   },
   "file_extension": ".py",
   "mimetype": "text/x-python",
   "name": "python",
   "nbconvert_exporter": "python",
   "pygments_lexer": "ipython3",
   "version": "3.11.5"
  }
 },
 "nbformat": 4,
 "nbformat_minor": 5
}
